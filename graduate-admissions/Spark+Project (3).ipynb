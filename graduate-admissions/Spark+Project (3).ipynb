{
 "cells": [
  {
   "cell_type": "code",
   "execution_count": 2,
   "metadata": {},
   "outputs": [],
   "source": [
    "import findspark\n",
    "findspark.init()\n",
    "import pyspark\n",
    "import matplotlib as plt\n",
    "from pyspark.ml.feature import MinMaxScaler\n",
    "from pyspark.ml.feature import VectorAssembler\n",
    "from pyspark import SparkContext\n",
    "from pyspark.sql import SQLContext\n",
    "from pyspark.sql import SparkSession\n",
    "from pyspark.ml.feature import SQLTransformer\n",
    "spark = SparkSession.builder.appName('FirstProject').getOrCreate()\n",
    "Graduate =spark.read.csv('Admissions1.csv',header=True)"
   ]
  },
  {
   "cell_type": "code",
   "execution_count": 3,
   "metadata": {},
   "outputs": [
    {
     "name": "stdout",
     "output_type": "stream",
     "text": [
      "+---+---+-----+-----------------+---+---+----+--------+-----+\n",
      "|_c0|GRE|TOEFL|University Rating|SOP|LOR|CGPA|Research|Admit|\n",
      "+---+---+-----+-----------------+---+---+----+--------+-----+\n",
      "|  0|337|  118|                4|4.5|4.5|9.65|       1|    1|\n",
      "|  1|324|  107|                4|4.0|4.5|8.87|       1|    1|\n",
      "|  2|316|  104|                3|3.0|3.5| 8.0|       1|    1|\n",
      "|  3|322|  110|                3|3.5|2.5|8.67|       1|    1|\n",
      "|  4|314|  103|                2|2.0|3.0|8.21|       0|    0|\n",
      "|  5|330|  115|                5|4.5|3.0|9.34|       1|    1|\n",
      "|  6|321|  109|                3|3.0|4.0| 8.2|       1|    1|\n",
      "|  7|308|  101|                2|3.0|4.0| 7.9|       0|    0|\n",
      "|  8|302|  102|                1|2.0|1.5| 8.0|       0|    0|\n",
      "|  9|323|  108|                3|3.5|3.0| 8.6|       0|    0|\n",
      "| 10|325|  106|                3|3.5|4.0| 8.4|       1|    0|\n",
      "| 11|327|  111|                4|4.0|4.5| 9.0|       1|    1|\n",
      "| 12|328|  112|                4|4.0|4.5| 9.1|       1|    1|\n",
      "| 13|307|  109|                3|4.0|3.0| 8.0|       1|    0|\n",
      "| 14|311|  104|                3|3.5|2.0| 8.2|       1|    0|\n",
      "| 15|314|  105|                3|3.5|2.5| 8.3|       0|    0|\n",
      "| 16|317|  107|                3|4.0|3.0| 8.7|       0|    0|\n",
      "| 17|319|  106|                3|4.0|3.0| 8.0|       1|    0|\n",
      "| 18|318|  110|                3|4.0|3.0| 8.8|       0|    0|\n",
      "| 19|303|  102|                3|3.5|3.0| 8.5|       0|    0|\n",
      "+---+---+-----+-----------------+---+---+----+--------+-----+\n",
      "only showing top 20 rows\n",
      "\n"
     ]
    }
   ],
   "source": [
    "Graduate.show()"
   ]
  },
  {
   "cell_type": "code",
   "execution_count": 4,
   "metadata": {},
   "outputs": [
    {
     "name": "stdout",
     "output_type": "stream",
     "text": [
      "root\n",
      " |-- _c0: string (nullable = true)\n",
      " |-- GRE: string (nullable = true)\n",
      " |-- TOEFL: string (nullable = true)\n",
      " |-- University Rating: string (nullable = true)\n",
      " |-- SOP: string (nullable = true)\n",
      " |-- LOR: string (nullable = true)\n",
      " |-- CGPA: string (nullable = true)\n",
      " |-- Research: string (nullable = true)\n",
      " |-- Admit: string (nullable = true)\n",
      "\n"
     ]
    }
   ],
   "source": [
    "Graduate.printSchema()"
   ]
  },
  {
   "cell_type": "code",
   "execution_count": 5,
   "metadata": {},
   "outputs": [],
   "source": [
    "cols = ['GRE','TOEFL','University Rating', 'SOP','LOR','CGPA','Research','Admit']\n",
    "for col_name in cols:\n",
    "    Graduate = Graduate.withColumn(col_name, Graduate[col_name].cast('float'))\n",
    "Graduate = Graduate.withColumnRenamed(\"Admit\", \"label\")"
   ]
  },
  {
   "cell_type": "code",
   "execution_count": 6,
   "metadata": {},
   "outputs": [],
   "source": [
    "assembler = VectorAssembler().setInputCols([\n",
    "    'GRE',\n",
    "    'TOEFL',\n",
    "    'University Rating',\n",
    "    'SOP',\n",
    "    'LOR',\n",
    "    'CGPA',\n",
    "    'Research']).setOutputCol('features')"
   ]
  },
  {
   "cell_type": "code",
   "execution_count": 7,
   "metadata": {},
   "outputs": [],
   "source": [
    "data02 = assembler.transform(Graduate).select(\"features\",\"label\")"
   ]
  },
  {
   "cell_type": "code",
   "execution_count": 8,
   "metadata": {},
   "outputs": [
    {
     "name": "stdout",
     "output_type": "stream",
     "text": [
      "+--------------------+-----+\n",
      "|            features|label|\n",
      "+--------------------+-----+\n",
      "|[337.0,118.0,4.0,...|  1.0|\n",
      "|[324.0,107.0,4.0,...|  1.0|\n",
      "|[316.0,104.0,3.0,...|  1.0|\n",
      "|[322.0,110.0,3.0,...|  1.0|\n",
      "|[314.0,103.0,2.0,...|  0.0|\n",
      "|[330.0,115.0,5.0,...|  1.0|\n",
      "|[321.0,109.0,3.0,...|  1.0|\n",
      "|[308.0,101.0,2.0,...|  0.0|\n",
      "|[302.0,102.0,1.0,...|  0.0|\n",
      "|[323.0,108.0,3.0,...|  0.0|\n",
      "|[325.0,106.0,3.0,...|  0.0|\n",
      "|[327.0,111.0,4.0,...|  1.0|\n",
      "|[328.0,112.0,4.0,...|  1.0|\n",
      "|[307.0,109.0,3.0,...|  0.0|\n",
      "|[311.0,104.0,3.0,...|  0.0|\n",
      "|[314.0,105.0,3.0,...|  0.0|\n",
      "|[317.0,107.0,3.0,...|  0.0|\n",
      "|[319.0,106.0,3.0,...|  0.0|\n",
      "|[318.0,110.0,3.0,...|  0.0|\n",
      "|[303.0,102.0,3.0,...|  0.0|\n",
      "+--------------------+-----+\n",
      "only showing top 20 rows\n",
      "\n"
     ]
    }
   ],
   "source": [
    "data02.show()"
   ]
  },
  {
   "cell_type": "code",
   "execution_count": 9,
   "metadata": {},
   "outputs": [],
   "source": [
    "scaler = MinMaxScaler(inputCol=\"features\", outputCol=\"scaledFeatures\")\n",
    "scalerModel = scaler.fit(data02)\n",
    "scaledData = scalerModel.transform(data02)"
   ]
  },
  {
   "cell_type": "code",
   "execution_count": 10,
   "metadata": {},
   "outputs": [
    {
     "name": "stdout",
     "output_type": "stream",
     "text": [
      "+--------------------+-----+--------------------+\n",
      "|            features|label|      scaledFeatures|\n",
      "+--------------------+-----+--------------------+\n",
      "|[337.0,118.0,4.0,...|  1.0|[0.94,0.928571428...|\n",
      "|[324.0,107.0,4.0,...|  1.0|[0.68,0.535714285...|\n",
      "|[316.0,104.0,3.0,...|  1.0|[0.52,0.428571428...|\n",
      "|[322.0,110.0,3.0,...|  1.0|[0.64,0.642857142...|\n",
      "|[314.0,103.0,2.0,...|  0.0|[0.48,0.392857142...|\n",
      "|[330.0,115.0,5.0,...|  1.0|[0.8,0.8214285714...|\n",
      "|[321.0,109.0,3.0,...|  1.0|[0.62,0.607142857...|\n",
      "|[308.0,101.0,2.0,...|  0.0|[0.36,0.321428571...|\n",
      "|[302.0,102.0,1.0,...|  0.0|[0.24,0.357142857...|\n",
      "|[323.0,108.0,3.0,...|  0.0|[0.66,0.571428571...|\n",
      "|[325.0,106.0,3.0,...|  0.0|[0.7,0.5,0.5,0.62...|\n",
      "|[327.0,111.0,4.0,...|  1.0|[0.74,0.678571428...|\n",
      "|[328.0,112.0,4.0,...|  1.0|[0.76,0.714285714...|\n",
      "|[307.0,109.0,3.0,...|  0.0|[0.34,0.607142857...|\n",
      "|[311.0,104.0,3.0,...|  0.0|[0.42,0.428571428...|\n",
      "|[314.0,105.0,3.0,...|  0.0|[0.48,0.464285714...|\n",
      "|[317.0,107.0,3.0,...|  0.0|[0.54,0.535714285...|\n",
      "|[319.0,106.0,3.0,...|  0.0|[0.58,0.5,0.5,0.7...|\n",
      "|[318.0,110.0,3.0,...|  0.0|[0.56,0.642857142...|\n",
      "|[303.0,102.0,3.0,...|  0.0|[0.26,0.357142857...|\n",
      "+--------------------+-----+--------------------+\n",
      "only showing top 20 rows\n",
      "\n"
     ]
    }
   ],
   "source": [
    "scaledData.show()"
   ]
  },
  {
   "cell_type": "code",
   "execution_count": 11,
   "metadata": {},
   "outputs": [],
   "source": [
    "from pyspark.ml import Pipeline\n",
    "from pyspark.ml.classification import LogisticRegression\n",
    "from pyspark.ml.tuning import CrossValidator, ParamGridBuilder\n",
    "from pyspark.ml.evaluation import BinaryClassificationEvaluator"
   ]
  },
  {
   "cell_type": "code",
   "execution_count": 12,
   "metadata": {},
   "outputs": [
    {
     "name": "stdout",
     "output_type": "stream",
     "text": [
      "279\n",
      "121\n",
      "+--------------------+-----+--------------------+--------------------+--------------------+----------+\n",
      "|            features|label|      scaledFeatures|       rawPrediction|         probability|prediction|\n",
      "+--------------------+-----+--------------------+--------------------+--------------------+----------+\n",
      "|[294.0,95.0,1.0,1...|  0.0|[0.08,0.107142857...|[2.57985237134773...|[0.92955360244944...|       0.0|\n",
      "|[295.0,99.0,2.0,2...|  0.0|[0.1,0.25,0.25,0....|[2.06070115396168...|[0.88702445308913...|       0.0|\n",
      "|[295.0,101.0,2.0,...|  0.0|[0.1,0.3214285714...|[1.70881531491654...|[0.84668256199436...|       0.0|\n",
      "|[296.0,95.0,2.0,3...|  0.0|[0.12,0.107142857...|[-0.4517908038181...|[0.38893507085566...|       1.0|\n",
      "|[297.0,96.0,2.0,2...|  0.0|[0.14,0.142857142...|[1.46681619463950...|[0.81257298089951...|       0.0|\n",
      "|[298.0,92.0,1.0,2...|  0.0|[0.16,0.0,0.0,0.2...|[2.50572097867506...|[0.92454190993412...|       0.0|\n",
      "|[298.0,98.0,2.0,1...|  0.0|[0.16,0.214285714...|[-0.3527284286100...|[0.41272094099009...|       1.0|\n",
      "|[298.0,99.0,1.0,1...|  0.0|[0.16,0.25,0.0,0....|[3.03675282003371...|[0.95420714996451...|       0.0|\n",
      "|[299.0,94.0,1.0,1...|  0.0|[0.18,0.071428571...|[2.03815949827803...|[0.88474572351141...|       0.0|\n",
      "|[299.0,96.0,2.0,1...|  0.0|[0.18,0.142857142...|[1.32817080069296...|[0.79053790280323...|       0.0|\n",
      "|[300.0,97.0,2.0,3...|  0.0|[0.2,0.1785714285...|[-0.2195246102090...|[0.44533818886335...|       1.0|\n",
      "|[300.0,99.0,1.0,1...|  0.0|[0.2,0.25,0.0,0.0...|[2.71760080037096...|[0.93805727268893...|       0.0|\n",
      "|[300.0,99.0,1.0,3...|  0.0|[0.2,0.25,0.0,0.5...|[0.57491548385332...|[0.63989662200232...|       0.0|\n",
      "|[300.0,104.0,3.0,...|  1.0|[0.2,0.4285714285...|[0.74133038984060...|[0.67728670733625...|       0.0|\n",
      "|[301.0,97.0,2.0,3...|  0.0|[0.22,0.178571428...|[-0.2842969673153...|[0.42940063361531...|       1.0|\n",
      "|[301.0,100.0,3.0,...|  0.0|[0.22,0.285714285...|[0.58934154097942...|[0.64321405036158...|       0.0|\n",
      "|[301.0,107.0,3.0,...|  0.0|[0.22,0.535714285...|[-1.0173011128696...|[0.26555344430821...|       1.0|\n",
      "|[302.0,101.0,2.0,...|  0.0|[0.24,0.321428571...|[1.90926375754061...|[0.87093641225153...|       0.0|\n",
      "|[303.0,100.0,2.0,...|  0.0|[0.26,0.285714285...|[-0.1260485656414...|[0.46852951511382...|       1.0|\n",
      "|[303.0,105.0,5.0,...|  1.0|[0.26,0.464285714...|[-1.1214210723184...|[0.24574778437842...|       1.0|\n",
      "+--------------------+-----+--------------------+--------------------+--------------------+----------+\n",
      "only showing top 20 rows\n",
      "\n"
     ]
    }
   ],
   "source": [
    "logit = LogisticRegression(labelCol=\"label\", featuresCol=\"scaledFeatures\", maxIter=10)\n",
    "\n",
    "# Train model with Training Data\n",
    "(trainingData, testData) = scaledData.randomSplit([0.7, 0.3], seed=100)\n",
    "print(trainingData.count())\n",
    "print(testData.count())\n",
    "logit = LogisticRegression(labelCol=\"label\", featuresCol=\"scaledFeatures\", maxIter=10)\n",
    "lrModel = logit.fit(trainingData)\n",
    "predictions = lrModel.transform(testData)\n",
    "predictions.show()"
   ]
  },
  {
   "cell_type": "code",
   "execution_count": 14,
   "metadata": {},
   "outputs": [],
   "source": [
    "evaluator = BinaryClassificationEvaluator(rawPredictionCol=\"rawPrediction\")\n",
    "paramGrid = (ParamGridBuilder().addGrid(logit.regParam, [0.01, 0.5, 2.0]).addGrid(logit.elasticNetParam, [0.0, 0.5, 1.0]).addGrid(logit.maxIter, [1, 5, 10]).build())\n",
    "cv = CrossValidator(estimator=logit, estimatorParamMaps=paramGrid, evaluator=evaluator, numFolds=5)\n",
    "cvModel1 = cv.fit(trainingData)"
   ]
  },
  {
   "cell_type": "code",
   "execution_count": 15,
   "metadata": {},
   "outputs": [
    {
     "name": "stdout",
     "output_type": "stream",
     "text": [
      "Model Intercept:  0.3107197405187981\n",
      "+--------------------+\n",
      "|      Feature Weight|\n",
      "+--------------------+\n",
      "| 0.02279316734241171|\n",
      "| 0.01929074262757881|\n",
      "|0.008964533404471916|\n",
      "|0.004736882858288...|\n",
      "|0.002372015684115436|\n",
      "| 0.03336601451312183|\n",
      "|0.003001095287548...|\n",
      "+--------------------+\n",
      "\n"
     ]
    }
   ],
   "source": [
    "print('Model Intercept: ', cvModel1.bestModel.intercept)\n",
    "weights = cvModel1.bestModel.coefficients\n",
    "weights = [(float(w),) for w in weights]  # convert numpy type to float, and to tuple\n",
    "weightsDF = spark.createDataFrame(weights, [\"Feature Weight\"])\n",
    "weightsDF.show()"
   ]
  },
  {
   "cell_type": "code",
   "execution_count": 16,
   "metadata": {},
   "outputs": [
    {
     "data": {
      "text/plain": [
       "0.8522139160437034"
      ]
     },
     "execution_count": 16,
     "metadata": {},
     "output_type": "execute_result"
    }
   ],
   "source": [
    "evaluator.evaluate(predictions, {evaluator.metricName : 'areaUnderROC'})"
   ]
  },
  {
   "cell_type": "code",
   "execution_count": 17,
   "metadata": {},
   "outputs": [
    {
     "data": {
      "text/plain": [
       "0.9108683151236342"
      ]
     },
     "execution_count": 17,
     "metadata": {},
     "output_type": "execute_result"
    }
   ],
   "source": [
    "predictions1=cvModel1.transform(testData)\n",
    "\n",
    "evaluator.evaluate(predictions1)"
   ]
  },
  {
   "cell_type": "code",
   "execution_count": 18,
   "metadata": {},
   "outputs": [
    {
     "name": "stdout",
     "output_type": "stream",
     "text": [
      "root\n",
      " |-- features: vector (nullable = true)\n",
      " |-- label: float (nullable = true)\n",
      " |-- scaledFeatures: vector (nullable = true)\n",
      " |-- rawPrediction: vector (nullable = true)\n",
      " |-- probability: vector (nullable = true)\n",
      " |-- prediction: double (nullable = false)\n",
      "\n"
     ]
    },
    {
     "data": {
      "text/plain": [
       "0.8913168487636574"
      ]
     },
     "execution_count": 18,
     "metadata": {},
     "output_type": "execute_result"
    }
   ],
   "source": [
    "from pyspark.ml.classification import RandomForestClassifier\n",
    "rf = RandomForestClassifier(labelCol=\"label\", featuresCol=\"scaledFeatures\")\n",
    "rfModel = rf.fit(trainingData)\n",
    "predictions2 = rfModel.transform(testData)\n",
    "predictions2.printSchema()\n",
    "evaluator.evaluate(predictions2)"
   ]
  },
  {
   "cell_type": "code",
   "execution_count": 19,
   "metadata": {},
   "outputs": [
    {
     "data": {
      "text/plain": [
       "0.8913168487636574"
      ]
     },
     "execution_count": 19,
     "metadata": {},
     "output_type": "execute_result"
    }
   ],
   "source": [
    "evaluator.evaluate(predictions2)"
   ]
  },
  {
   "cell_type": "code",
   "execution_count": 20,
   "metadata": {},
   "outputs": [
    {
     "data": {
      "text/plain": [
       "SparseVector(7, {0: 0.233, 1: 0.1093, 2: 0.065, 3: 0.0322, 4: 0.0517, 5: 0.4646, 6: 0.0442})"
      ]
     },
     "execution_count": 20,
     "metadata": {},
     "output_type": "execute_result"
    }
   ],
   "source": [
    "rfModel.featureImportances"
   ]
  },
  {
   "cell_type": "code",
   "execution_count": 21,
   "metadata": {},
   "outputs": [
    {
     "name": "stdout",
     "output_type": "stream",
     "text": [
      "+--------------------+-----+--------------------+--------------------+--------------------+----------+\n",
      "|            features|label|      scaledFeatures|       rawPrediction|         probability|prediction|\n",
      "+--------------------+-----+--------------------+--------------------+--------------------+----------+\n",
      "|[294.0,95.0,1.0,1...|  0.0|[0.08,0.107142857...|          [20.0,0.0]|           [1.0,0.0]|       0.0|\n",
      "|[295.0,99.0,2.0,2...|  0.0|[0.1,0.25,0.25,0....|[19.8101946721311...|[0.99050973360655...|       0.0|\n",
      "|[295.0,101.0,2.0,...|  0.0|[0.1,0.3214285714...|          [20.0,0.0]|           [1.0,0.0]|       0.0|\n",
      "|[296.0,95.0,2.0,3...|  0.0|[0.12,0.107142857...|          [19.3,0.7]|[0.96500000000000...|       0.0|\n",
      "|[297.0,96.0,2.0,2...|  0.0|[0.14,0.142857142...|          [20.0,0.0]|           [1.0,0.0]|       0.0|\n",
      "|[298.0,92.0,1.0,2...|  0.0|[0.16,0.0,0.0,0.2...|          [20.0,0.0]|           [1.0,0.0]|       0.0|\n",
      "|[298.0,98.0,2.0,1...|  0.0|[0.16,0.214285714...|[19.1101946721311...|[0.95550973360655...|       0.0|\n",
      "|[298.0,99.0,1.0,1...|  0.0|[0.16,0.25,0.0,0....|[19.8101946721311...|[0.99050973360655...|       0.0|\n",
      "|[299.0,94.0,1.0,1...|  0.0|[0.18,0.071428571...|          [20.0,0.0]|           [1.0,0.0]|       0.0|\n",
      "|[299.0,96.0,2.0,1...|  0.0|[0.18,0.142857142...|          [20.0,0.0]|           [1.0,0.0]|       0.0|\n",
      "|[300.0,97.0,2.0,3...|  0.0|[0.2,0.1785714285...|[16.9260057238245...|[0.84630028619122...|       0.0|\n",
      "|[300.0,99.0,1.0,1...|  0.0|[0.2,0.25,0.0,0.0...|[19.8101946721311...|[0.99050973360655...|       0.0|\n",
      "|[300.0,99.0,1.0,3...|  0.0|[0.2,0.25,0.0,0.5...|          [19.3,0.7]|[0.96500000000000...|       0.0|\n",
      "|[300.0,104.0,3.0,...|  1.0|[0.2,0.4285714285...|[17.8191512098513...|[0.89095756049256...|       0.0|\n",
      "|[301.0,97.0,2.0,3...|  0.0|[0.22,0.178571428...|[19.1101946721311...|[0.95550973360655...|       0.0|\n",
      "|[301.0,100.0,3.0,...|  0.0|[0.22,0.285714285...|[19.6591975211339...|[0.98295987605669...|       0.0|\n",
      "|[301.0,107.0,3.0,...|  0.0|[0.22,0.535714285...|[10.3933723829303...|[0.51966861914651...|       0.0|\n",
      "|[302.0,101.0,2.0,...|  0.0|[0.24,0.321428571...|[19.8101946721311...|[0.99050973360655...|       0.0|\n",
      "|[303.0,100.0,2.0,...|  0.0|[0.26,0.285714285...|[18.4226158933160...|[0.92113079466580...|       0.0|\n",
      "|[303.0,105.0,5.0,...|  1.0|[0.26,0.464285714...|[11.0234674329501...|[0.55117337164750...|       0.0|\n",
      "+--------------------+-----+--------------------+--------------------+--------------------+----------+\n",
      "only showing top 20 rows\n",
      "\n"
     ]
    }
   ],
   "source": [
    "predictions2.show()"
   ]
  },
  {
   "cell_type": "code",
   "execution_count": 22,
   "metadata": {},
   "outputs": [],
   "source": [
    "paramGrid = (ParamGridBuilder().addGrid(rf.maxDepth, [2, 4, 6]).addGrid(rf.maxBins, [20, 60]).addGrid(rf.numTrees, [5, 20]).build())\n",
    "cv = CrossValidator(estimator=rf, estimatorParamMaps=paramGrid, evaluator=evaluator, numFolds=5)\n",
    "\n",
    "# Run cross validations.  This can take about 6 minutes since it is training over 20 trees!\n",
    "cvModel = cv.fit(trainingData)\n"
   ]
  },
  {
   "cell_type": "raw",
   "metadata": {},
   "source": []
  },
  {
   "cell_type": "code",
   "execution_count": 23,
   "metadata": {},
   "outputs": [
    {
     "data": {
      "text/plain": [
       "0.9015238642898217"
      ]
     },
     "execution_count": 23,
     "metadata": {},
     "output_type": "execute_result"
    }
   ],
   "source": [
    "prediction = cvModel.transform(testData)\n",
    "evaluator.evaluate(prediction)"
   ]
  },
  {
   "cell_type": "code",
   "execution_count": 24,
   "metadata": {},
   "outputs": [
    {
     "data": {
      "text/plain": [
       "SparseVector(7, {0: 0.2159, 1: 0.0957, 2: 0.0847, 3: 0.0018, 4: 0.0229, 5: 0.5277, 6: 0.0513})"
      ]
     },
     "execution_count": 24,
     "metadata": {},
     "output_type": "execute_result"
    }
   ],
   "source": [
    "cvModel.bestModel.featureImportances"
   ]
  },
  {
   "cell_type": "code",
   "execution_count": 25,
   "metadata": {},
   "outputs": [
    {
     "name": "stdout",
     "output_type": "stream",
     "text": [
      "+--------------------+-----+--------------------+--------------------+--------------------+----------+\n",
      "|            features|label|      scaledFeatures|       rawPrediction|         probability|prediction|\n",
      "+--------------------+-----+--------------------+--------------------+--------------------+----------+\n",
      "|[294.0,95.0,1.0,1...|  0.0|[0.08,0.107142857...|[18.5165875190366...|[0.92582937595183...|       0.0|\n",
      "|[295.0,99.0,2.0,2...|  0.0|[0.1,0.25,0.25,0....|[18.2506300722281...|[0.91253150361140...|       0.0|\n",
      "|[295.0,101.0,2.0,...|  0.0|[0.1,0.3214285714...|[18.5165875190366...|[0.92582937595183...|       0.0|\n",
      "|[296.0,95.0,2.0,3...|  0.0|[0.12,0.107142857...|[17.5822748235819...|[0.87911374117909...|       0.0|\n",
      "|[297.0,96.0,2.0,2...|  0.0|[0.14,0.142857142...|[18.5165875190366...|[0.92582937595183...|       0.0|\n",
      "|[298.0,92.0,1.0,2...|  0.0|[0.16,0.0,0.0,0.2...|[18.5165875190366...|[0.92582937595183...|       0.0|\n",
      "|[298.0,98.0,2.0,1...|  0.0|[0.16,0.214285714...|[17.3163173767734...|[0.86581586883867...|       0.0|\n",
      "|[298.0,99.0,1.0,1...|  0.0|[0.16,0.25,0.0,0....|[18.2506300722281...|[0.91253150361140...|       0.0|\n",
      "|[299.0,94.0,1.0,1...|  0.0|[0.18,0.071428571...|[18.5165875190366...|[0.92582937595183...|       0.0|\n",
      "|[299.0,96.0,2.0,1...|  0.0|[0.18,0.142857142...|[18.5165875190366...|[0.92582937595183...|       0.0|\n",
      "|[300.0,97.0,2.0,3...|  0.0|[0.2,0.1785714285...|[16.9375113350567...|[0.84687556675283...|       0.0|\n",
      "|[300.0,99.0,1.0,1...|  0.0|[0.2,0.25,0.0,0.0...|[18.2506300722281...|[0.91253150361140...|       0.0|\n",
      "|[300.0,99.0,1.0,3...|  0.0|[0.2,0.25,0.0,0.5...|[17.5822748235819...|[0.87911374117909...|       0.0|\n",
      "|[300.0,104.0,3.0,...|  1.0|[0.2,0.4285714285...|[15.7933283172701...|[0.78966641586350...|       0.0|\n",
      "|[301.0,97.0,2.0,3...|  0.0|[0.22,0.178571428...|[17.3163173767734...|[0.86581586883867...|       0.0|\n",
      "|[301.0,100.0,3.0,...|  0.0|[0.22,0.285714285...|[16.9771290110921...|[0.84885645055460...|       0.0|\n",
      "|[301.0,107.0,3.0,...|  0.0|[0.22,0.535714285...|[12.1834723327406...|[0.60917361663703...|       0.0|\n",
      "|[302.0,101.0,2.0,...|  0.0|[0.24,0.321428571...|[18.2506300722281...|[0.91253150361140...|       0.0|\n",
      "|[303.0,100.0,2.0,...|  0.0|[0.26,0.285714285...|[16.9375113350567...|[0.84687556675283...|       0.0|\n",
      "|[303.0,105.0,5.0,...|  1.0|[0.26,0.464285714...|[7.17290796851305...|[0.35864539842565...|       1.0|\n",
      "+--------------------+-----+--------------------+--------------------+--------------------+----------+\n",
      "only showing top 20 rows\n",
      "\n"
     ]
    }
   ],
   "source": [
    "prediction.show()"
   ]
  },
  {
   "cell_type": "code",
   "execution_count": null,
   "metadata": {},
   "outputs": [],
   "source": []
  },
  {
   "cell_type": "code",
   "execution_count": null,
   "metadata": {},
   "outputs": [],
   "source": []
  }
 ],
 "metadata": {
  "kernelspec": {
   "display_name": "Python 3",
   "language": "python",
   "name": "python3"
  },
  "language_info": {
   "codemirror_mode": {
    "name": "ipython",
    "version": 3
   },
   "file_extension": ".py",
   "mimetype": "text/x-python",
   "name": "python",
   "nbconvert_exporter": "python",
   "pygments_lexer": "ipython3",
   "version": "3.7.0"
  }
 },
 "nbformat": 4,
 "nbformat_minor": 2
}
